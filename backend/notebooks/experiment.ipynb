{
 "cells": [
  {
   "cell_type": "code",
   "execution_count": 5,
   "id": "6f159645",
   "metadata": {},
   "outputs": [],
   "source": [
    "import json\n",
    "import os\n",
    "\n",
    "with open('../data/category.json', 'r') as f:\n",
    "    classes = json.load(f)\n",
    "\n",
    "labels_dir = 'labels/test'\n",
    "\n",
    "for file in os.listdir(labels_dir):\n",
    "    if file.endswith('.txt'):\n",
    "        file_path = os.path.join(labels_dir, file)\n",
    "\n",
    "        with open(file_path, 'r') as f:\n",
    "            lines = f.readlines()\n",
    "\n",
    "            filtered_lines = [\n",
    "                line for line in lines\n",
    "                if line.strip() and int(line.split()[0]) in classes\n",
    "            ]\n",
    "\n",
    "        with open(file_path, 'w') as f:\n",
    "            f.writelines(filtered_lines)\n"
   ]
  },
  {
   "cell_type": "code",
   "execution_count": 4,
   "id": "8c29768b",
   "metadata": {},
   "outputs": [],
   "source": [
    "import yaml\n",
    "\n",
    "data  = \"\"\"\n",
    "names:\n",
    "  0: shirt, blouse\n",
    "  1: top, t-shirt, sweatshirt\n",
    "  2: sweater\n",
    "  3: cardigan\n",
    "  4: jacket\n",
    "  5: vest\n",
    "  6: pants\n",
    "  7: shorts\n",
    "  8: skirt\n",
    "  9: coat\n",
    "  10: dress\n",
    "  11: jumpsuit\n",
    "  12: cape\n",
    "  13: glasses\n",
    "  14: hat\n",
    "  15: headband, head covering, hair accessory\n",
    "  16: tie\n",
    "  17: glove\n",
    "  18: watch\n",
    "  19: belt\n",
    "  21: tights, stockings\n",
    "  22: sock\n",
    "  23: shoe\n",
    "  24: bag, wallet\n",
    "  25: scarf\n",
    "  27: hood\n",
    "  38: bow\n",
    "  39: flower\n",
    "  43: ruffle\n",
    "\n",
    "path: /kaggle/input/fashionpedia-dataset\n",
    "test: images/test\n",
    "train: images/train\n",
    "val: images/test\n",
    "\"\"\"\n",
    "\n",
    "with open('data2.yaml', 'w') as f:\n",
    "    yaml.dump(yaml.safe_load(data), f)"
   ]
  },
  {
   "cell_type": "code",
   "execution_count": 9,
   "id": "a6845072",
   "metadata": {},
   "outputs": [],
   "source": [
    "import os\n",
    "import json\n",
    "\n",
    "with open('../data/category.json', 'r') as f:\n",
    "    classes = json.load(f)\n",
    "\n",
    "remap_dict = {old: new for new, old in enumerate(classes)}\n",
    "\n",
    "labels_dir = 'labels/val'\n",
    "\n",
    "for filename in os.listdir(labels_dir):\n",
    "    if filename.endswith(\".txt\"):\n",
    "        file_path = os.path.join(labels_dir, filename)\n",
    "\n",
    "        with open(file_path, \"r\") as file:\n",
    "            lines = file.readlines()\n",
    "\n",
    "        remapped_lines = []\n",
    "        for line in lines:\n",
    "            parts = line.strip().split()\n",
    "            if not parts:\n",
    "                continue\n",
    "            old_class_id = int(parts[0])\n",
    "            new_class_id = remap_dict.get(old_class_id)\n",
    "            if new_class_id is not None:\n",
    "                remapped_line = \" \".join([str(new_class_id)] + parts[1:]) + \"\\n\"\n",
    "                remapped_lines.append(remapped_line)\n",
    "\n",
    "        # Overwrite file with remapped labels\n",
    "        with open(file_path, \"w\") as file:\n",
    "            file.writelines(remapped_lines)"
   ]
  },
  {
   "cell_type": "code",
   "execution_count": 18,
   "id": "719d9c10",
   "metadata": {},
   "outputs": [
    {
     "name": "stdout",
     "output_type": "stream",
     "text": [
      "✅ filtered_catalog.csv saved and aligned with embeddings.\n"
     ]
    }
   ],
   "source": [
    "import pandas as pd\n",
    "import numpy as np\n",
    "import json\n",
    "from collections import defaultdict\n",
    "\n",
    "# Load your data\n",
    "full_catalog_df = pd.read_csv(\"/home/pchhalotre/Desktop/flickd-hackathon/backend/data/catalog.csv\")  # Original, unfiltered\n",
    "with open(\"/home/pchhalotre/Desktop/flickd-hackathon/backend/models/catalog_product_ids.json\", \"r\") as f:\n",
    "    product_ids = json.load(f)\n",
    "\n",
    "embeddings = np.load(\"/home/pchhalotre/Desktop/flickd-hackathon/backend/models/catalog_clip_embeddings.npy\")\n",
    "assert len(product_ids) == len(embeddings)\n",
    "\n",
    "# Step 1: Group image rows by product_id\n",
    "pid_to_rows = defaultdict(list)\n",
    "for idx, row in full_catalog_df.iterrows():\n",
    "    pid = str(row['id'])  # Ensure string type\n",
    "    pid_to_rows[pid].append(idx)\n",
    "\n",
    "# Step 2: For each product_id in saved order, get first unused image\n",
    "used_counts = defaultdict(int)\n",
    "final_indices = []\n",
    "\n",
    "for pid in product_ids:\n",
    "    idx_list = pid_to_rows[pid]\n",
    "    count = used_counts[pid]\n",
    "    if count >= len(idx_list):\n",
    "        raise ValueError(f\"Not enough images for product_id {pid}\")\n",
    "    final_indices.append(idx_list[count])\n",
    "    used_counts[pid] += 1\n",
    "\n",
    "# Step 3: Filter the catalog\n",
    "filtered_catalog_df = full_catalog_df.iloc[final_indices].reset_index(drop=True)\n",
    "\n",
    "# Final sanity check\n",
    "assert len(filtered_catalog_df) == len(embeddings) == len(product_ids)\n",
    "\n",
    "# Save recovered catalog\n",
    "filtered_catalog_df.to_csv(\"filtered_catalog.csv\", index=False)\n",
    "print(\"✅ filtered_catalog.csv saved and aligned with embeddings.\")\n",
    "\n",
    "# Optionally save indices\n",
    "with open(\"recovered_indices.json\", \"w\") as f:\n",
    "    json.dump(final_indices, f, indent=2)\n"
   ]
  },
  {
   "cell_type": "code",
   "execution_count": 11,
   "id": "16e6a5f8",
   "metadata": {},
   "outputs": [
    {
     "data": {
      "text/plain": [
       "8135"
      ]
     },
     "execution_count": 11,
     "metadata": {},
     "output_type": "execute_result"
    }
   ],
   "source": [
    "import json\n",
    "with open(\"/home/pchhalotre/Desktop/flickd-hackathon/backend/models/catalog_product_ids.json\", \"r\") as f:\n",
    "    product_ids = json.load(f)\n",
    "\n",
    "len(product_ids)"
   ]
  },
  {
   "cell_type": "code",
   "execution_count": 14,
   "id": "2cb777f7",
   "metadata": {},
   "outputs": [
    {
     "data": {
      "text/plain": [
       "(8135, 768)"
      ]
     },
     "execution_count": 14,
     "metadata": {},
     "output_type": "execute_result"
    }
   ],
   "source": [
    "import numpy as np\n",
    "embeddings = np.load(\"/home/pchhalotre/Desktop/flickd-hackathon/backend/models/catalog_clip_embeddings.npy\")\n",
    "\n",
    "embeddings.shape"
   ]
  },
  {
   "cell_type": "code",
   "execution_count": 20,
   "id": "c4021e13",
   "metadata": {},
   "outputs": [
    {
     "name": "stdout",
     "output_type": "stream",
     "text": [
      "⚠️ Failed to process https://cdn.shopify.com/s/files/1/0785/1674/8585/files/DSCF1948_1600x.jpg?v=1738757403: cannot identify image file <_io.BytesIO object at 0x7eed168a9440>\n",
      "⚠️ Failed to process https://cdn.shopify.com/s/files/1/0785/1674/8585/files/DSCF1968_1600x.jpg?v=1738757402: cannot identify image file <_io.BytesIO object at 0x7eed2dc74770>\n",
      "⚠️ Failed to process https://cdn.shopify.com/s/files/1/0785/1674/8585/files/DSCF1971_1600x.jpg?v=1738757403: cannot identify image file <_io.BytesIO object at 0x7eed2deff560>\n",
      "⚠️ Failed to process https://cdn.shopify.com/s/files/1/0785/1674/8585/files/DSCF1973_1600x.jpg?v=1738757403: cannot identify image file <_io.BytesIO object at 0x7eed2dc740e0>\n",
      "⚠️ Failed to process https://cdn.shopify.com/s/files/1/0785/1674/8585/files/DSCF1977_86dfa1dd-099e-4b31-8b42-0e3fda8d204e_1600x.jpg?v=1738757403: cannot identify image file <_io.BytesIO object at 0x7eed40282250>\n",
      "⚠️ Failed to process https://cdn.shopify.com/s/files/1/0785/1674/8585/files/DSCF1984_1600x.jpg?v=1738757195: cannot identify image file <_io.BytesIO object at 0x7eed2dc740e0>\n",
      "⚠️ Failed to process https://cdn.shopify.com/s/files/1/0785/1674/8585/files/DSCF1980E4_1600x.jpg?v=1738826017: cannot identify image file <_io.BytesIO object at 0x7eed2dc74130>\n",
      "⚠️ Failed to process https://cdn.shopify.com/s/files/1/0785/1674/8585/files/DSCF1990E4_1600x.jpg?v=1738826017: cannot identify image file <_io.BytesIO object at 0x7eed2dc740e0>\n",
      "⚠️ Failed to process https://cdn.shopify.com/s/files/1/0785/1674/8585/files/DSCF1984.jpg?v=1738757195&quality=60&width=512: cannot identify image file <_io.BytesIO object at 0x7eed168aaca0>\n",
      "⚠️ Failed to process https://cdn.shopify.com/s/files/1/0785/1674/8585/files/DSCF1656_1600x.jpg?v=1738831875: cannot identify image file <_io.BytesIO object at 0x7eed2e751b20>\n",
      "⚠️ Failed to process https://cdn.shopify.com/s/files/1/0785/1674/8585/files/DSCF1666E4_1600x.jpg?v=1738831875: cannot identify image file <_io.BytesIO object at 0x7eed2e7522f0>\n",
      "⚠️ Failed to process https://cdn.shopify.com/s/files/1/0785/1674/8585/files/DSCF1977_58c78efa-31cf-4a0f-80ae-2b7a02e6b6c9_1600x.jpg?v=1738758319: cannot identify image file <_io.BytesIO object at 0x7eed168aa610>\n",
      "⚠️ Failed to process https://cdn.shopify.com/s/files/1/0785/1674/8585/files/DSCF1984_3badb16a-b2a2-4dce-9565-04a60c88c2b9_1600x.jpg?v=1738758319: cannot identify image file <_io.BytesIO object at 0x7eed2d334180>\n",
      "⚠️ Failed to process https://cdn.shopify.com/s/files/1/0785/1674/8585/files/DSCF1988_27e240f6-f48d-45af-9187-1bf96d6ea61b_1600x.jpg?v=1738758319: cannot identify image file <_io.BytesIO object at 0x7eed2e750220>\n",
      "⚠️ Failed to process https://cdn.shopify.com/s/files/1/0785/1674/8585/files/DSCF1968_7342bdbf-a12d-4b97-b6f6-2067b4ccab16_1600x.jpg?v=1738758319: cannot identify image file <_io.BytesIO object at 0x7eed168aa610>\n",
      "⚠️ Failed to process https://cdn.shopify.com/s/files/1/0785/1674/8585/files/DSCF1971_1e7b0091-7a8e-496c-abad-8252bd54773c_1600x.jpg?v=1738758319: cannot identify image file <_io.BytesIO object at 0x7eed2e751990>\n",
      "⚠️ Failed to process https://cdn.shopify.com/s/files/1/0785/1674/8585/files/DSCF2123_1600x.jpg?v=1738738171: cannot identify image file <_io.BytesIO object at 0x7eed2d334c20>\n",
      "⚠️ Failed to process https://cdn.shopify.com/s/files/1/0785/1674/8585/files/DSCF2117_1600x.jpg?v=1738738171: cannot identify image file <_io.BytesIO object at 0x7eed2d3349f0>\n",
      "⚠️ Failed to process https://cdn.shopify.com/s/files/1/0785/1674/8585/files/DSCF2120_1600x.jpg?v=1738738171: cannot identify image file <_io.BytesIO object at 0x7eed168a9f30>\n",
      "⚠️ Failed to process https://cdn.shopify.com/s/files/1/0785/1674/8585/files/DSCF2115_1600x.jpg?v=1738738171: cannot identify image file <_io.BytesIO object at 0x7eed2d334c20>\n",
      "⚠️ Failed to process https://cdn.shopify.com/s/files/1/0785/1674/8585/files/DSCF2139_1600x.jpg?v=1738677598: cannot identify image file <_io.BytesIO object at 0x7eed168aae30>\n",
      "⚠️ Failed to process https://cdn.shopify.com/s/files/1/0785/1674/8585/files/DSCF1656_f0ec2a6e-f9f5-4257-8c16-bb86462434b9_1600x.jpg?v=1738831884: cannot identify image file <_io.BytesIO object at 0x7eed2e751530>\n",
      "⚠️ Failed to process https://cdn.shopify.com/s/files/1/0785/1674/8585/files/4th_DEC_2024_Virgio-0023_4_c56f3599-5aab-4d12-bfa4-98df99846713_1600x.jpg?v=1737633610: HTTPSConnectionPool(host='cdn.shopify.com', port=443): Max retries exceeded with url: /s/files/1/0785/1674/8585/files/4th_DEC_2024_Virgio-0023_4_c56f3599-5aab-4d12-bfa4-98df99846713_1600x.jpg?v=1737633610 (Caused by NewConnectionError('<urllib3.connection.HTTPSConnection object at 0x7eed2d3f3bc0>: Failed to establish a new connection: [Errno 101] Network is unreachable'))\n",
      "⚠️ Failed to process https://cdn.shopify.com/s/files/1/0785/1674/8585/files/4th_DEC_2024_Virgio-0032_4_51ef0ddb-5c81-4562-aebe-a6bd95950d25_1600x.jpg?v=1739880683: HTTPSConnectionPool(host='cdn.shopify.com', port=443): Max retries exceeded with url: /s/files/1/0785/1674/8585/files/4th_DEC_2024_Virgio-0032_4_51ef0ddb-5c81-4562-aebe-a6bd95950d25_1600x.jpg?v=1739880683 (Caused by NewConnectionError('<urllib3.connection.HTTPSConnection object at 0x7eed2d3f2120>: Failed to establish a new connection: [Errno 101] Network is unreachable'))\n",
      "⚠️ Failed to process https://cdn.shopify.com/s/files/1/0785/1674/8585/files/4th_DEC_2024_Virgio-0059_3_1600x.jpg?v=1737629452: HTTPSConnectionPool(host='cdn.shopify.com', port=443): Max retries exceeded with url: /s/files/1/0785/1674/8585/files/4th_DEC_2024_Virgio-0059_3_1600x.jpg?v=1737629452 (Caused by NewConnectionError('<urllib3.connection.HTTPSConnection object at 0x7eed2d150d40>: Failed to establish a new connection: [Errno 101] Network is unreachable'))\n",
      "⚠️ Failed to process https://cdn.shopify.com/s/files/1/0785/1674/8585/files/18th_dec_virgio-2441_1600x.jpg?v=1735207990: HTTPSConnectionPool(host='cdn.shopify.com', port=443): Max retries exceeded with url: /s/files/1/0785/1674/8585/files/18th_dec_virgio-2441_1600x.jpg?v=1735207990 (Caused by NewConnectionError('<urllib3.connection.HTTPSConnection object at 0x7eed2d18caa0>: Failed to establish a new connection: [Errno 101] Network is unreachable'))\n",
      "⚠️ Failed to process https://cdn.shopify.com/s/files/1/0785/1674/8585/files/18th_dec_virgio-2437.jpg?v=1735207990&quality=60&width=512: HTTPSConnectionPool(host='cdn.shopify.com', port=443): Max retries exceeded with url: /s/files/1/0785/1674/8585/files/18th_dec_virgio-2437.jpg?v=1735207990&quality=60&width=512 (Caused by NewConnectionError('<urllib3.connection.HTTPSConnection object at 0x7eed2d18f9e0>: Failed to establish a new connection: [Errno 101] Network is unreachable'))\n",
      "⚠️ Failed to process https://cdn.shopify.com/s/files/1/0785/1674/8585/files/18th_dec_virgio-2286_1600x.jpg?v=1735546987: HTTPSConnectionPool(host='cdn.shopify.com', port=443): Max retries exceeded with url: /s/files/1/0785/1674/8585/files/18th_dec_virgio-2286_1600x.jpg?v=1735546987 (Caused by NewConnectionError('<urllib3.connection.HTTPSConnection object at 0x7eed2d19c1d0>: Failed to establish a new connection: [Errno 101] Network is unreachable'))\n",
      "⚠️ Failed to process https://cdn.shopify.com/s/files/1/0785/1674/8585/files/23rdAugVirgio1767_1600x.jpg?v=1734000403: HTTPSConnectionPool(host='cdn.shopify.com', port=443): Max retries exceeded with url: /s/files/1/0785/1674/8585/files/23rdAugVirgio1767_1600x.jpg?v=1734000403 (Caused by NewConnectionError('<urllib3.connection.HTTPSConnection object at 0x7eed2d1dddc0>: Failed to establish a new connection: [Errno 101] Network is unreachable'))\n",
      "⚠️ Failed to process https://cdn.shopify.com/s/files/1/0785/1674/8585/files/4thDEC2024Virgio-03521_1600x.jpg?v=1734014208: HTTPSConnectionPool(host='cdn.shopify.com', port=443): Max retries exceeded with url: /s/files/1/0785/1674/8585/files/4thDEC2024Virgio-03521_1600x.jpg?v=1734014208 (Caused by NewConnectionError('<urllib3.connection.HTTPSConnection object at 0x7eed2d1dd1f0>: Failed to establish a new connection: [Errno 101] Network is unreachable'))\n",
      "⚠️ Failed to process https://cdn.shopify.com/s/files/1/0785/1674/8585/files/4thDEC2024Virgio-03601_1600x.jpg?v=1734014208: HTTPSConnectionPool(host='cdn.shopify.com', port=443): Max retries exceeded with url: /s/files/1/0785/1674/8585/files/4thDEC2024Virgio-03601_1600x.jpg?v=1734014208 (Caused by NewConnectionError('<urllib3.connection.HTTPSConnection object at 0x7eed2d1df530>: Failed to establish a new connection: [Errno 101] Network is unreachable'))\n"
     ]
    },
    {
     "ename": "KeyboardInterrupt",
     "evalue": "",
     "output_type": "error",
     "traceback": [
      "\u001b[31m---------------------------------------------------------------------------\u001b[39m",
      "\u001b[31mKeyboardInterrupt\u001b[39m                         Traceback (most recent call last)",
      "\u001b[36mCell\u001b[39m\u001b[36m \u001b[39m\u001b[32mIn[20]\u001b[39m\u001b[32m, line 21\u001b[39m\n\u001b[32m     17\u001b[39m image_url = row[\u001b[33m'\u001b[39m\u001b[33mimage_url\u001b[39m\u001b[33m'\u001b[39m]\n\u001b[32m     19\u001b[39m \u001b[38;5;28;01mtry\u001b[39;00m:\n\u001b[32m     20\u001b[39m     \u001b[38;5;66;03m# Download and hash image\u001b[39;00m\n\u001b[32m---> \u001b[39m\u001b[32m21\u001b[39m     response = \u001b[43mrequests\u001b[49m\u001b[43m.\u001b[49m\u001b[43mget\u001b[49m\u001b[43m(\u001b[49m\u001b[43mimage_url\u001b[49m\u001b[43m,\u001b[49m\u001b[43m \u001b[49m\u001b[43mtimeout\u001b[49m\u001b[43m=\u001b[49m\u001b[32;43m10\u001b[39;49m\u001b[43m)\u001b[49m\n\u001b[32m     22\u001b[39m     img = Image.open(BytesIO(response.content)).convert(\u001b[33m\"\u001b[39m\u001b[33mRGB\u001b[39m\u001b[33m\"\u001b[39m)\n\u001b[32m     23\u001b[39m     img_hash = imagehash.phash(img)  \u001b[38;5;66;03m# perceptual hash (can use dhash/ahash too)\u001b[39;00m\n",
      "\u001b[36mFile \u001b[39m\u001b[32m~/miniconda3/envs/flickd/lib/python3.12/site-packages/requests/api.py:73\u001b[39m, in \u001b[36mget\u001b[39m\u001b[34m(url, params, **kwargs)\u001b[39m\n\u001b[32m     62\u001b[39m \u001b[38;5;28;01mdef\u001b[39;00m\u001b[38;5;250m \u001b[39m\u001b[34mget\u001b[39m(url, params=\u001b[38;5;28;01mNone\u001b[39;00m, **kwargs):\n\u001b[32m     63\u001b[39m \u001b[38;5;250m    \u001b[39m\u001b[33mr\u001b[39m\u001b[33;03m\"\"\"Sends a GET request.\u001b[39;00m\n\u001b[32m     64\u001b[39m \n\u001b[32m     65\u001b[39m \u001b[33;03m    :param url: URL for the new :class:`Request` object.\u001b[39;00m\n\u001b[32m   (...)\u001b[39m\u001b[32m     70\u001b[39m \u001b[33;03m    :rtype: requests.Response\u001b[39;00m\n\u001b[32m     71\u001b[39m \u001b[33;03m    \"\"\"\u001b[39;00m\n\u001b[32m---> \u001b[39m\u001b[32m73\u001b[39m     \u001b[38;5;28;01mreturn\u001b[39;00m \u001b[43mrequest\u001b[49m\u001b[43m(\u001b[49m\u001b[33;43m\"\u001b[39;49m\u001b[33;43mget\u001b[39;49m\u001b[33;43m\"\u001b[39;49m\u001b[43m,\u001b[49m\u001b[43m \u001b[49m\u001b[43murl\u001b[49m\u001b[43m,\u001b[49m\u001b[43m \u001b[49m\u001b[43mparams\u001b[49m\u001b[43m=\u001b[49m\u001b[43mparams\u001b[49m\u001b[43m,\u001b[49m\u001b[43m \u001b[49m\u001b[43m*\u001b[49m\u001b[43m*\u001b[49m\u001b[43mkwargs\u001b[49m\u001b[43m)\u001b[49m\n",
      "\u001b[36mFile \u001b[39m\u001b[32m~/miniconda3/envs/flickd/lib/python3.12/site-packages/requests/api.py:59\u001b[39m, in \u001b[36mrequest\u001b[39m\u001b[34m(method, url, **kwargs)\u001b[39m\n\u001b[32m     55\u001b[39m \u001b[38;5;66;03m# By using the 'with' statement we are sure the session is closed, thus we\u001b[39;00m\n\u001b[32m     56\u001b[39m \u001b[38;5;66;03m# avoid leaving sockets open which can trigger a ResourceWarning in some\u001b[39;00m\n\u001b[32m     57\u001b[39m \u001b[38;5;66;03m# cases, and look like a memory leak in others.\u001b[39;00m\n\u001b[32m     58\u001b[39m \u001b[38;5;28;01mwith\u001b[39;00m sessions.Session() \u001b[38;5;28;01mas\u001b[39;00m session:\n\u001b[32m---> \u001b[39m\u001b[32m59\u001b[39m     \u001b[38;5;28;01mreturn\u001b[39;00m \u001b[43msession\u001b[49m\u001b[43m.\u001b[49m\u001b[43mrequest\u001b[49m\u001b[43m(\u001b[49m\u001b[43mmethod\u001b[49m\u001b[43m=\u001b[49m\u001b[43mmethod\u001b[49m\u001b[43m,\u001b[49m\u001b[43m \u001b[49m\u001b[43murl\u001b[49m\u001b[43m=\u001b[49m\u001b[43murl\u001b[49m\u001b[43m,\u001b[49m\u001b[43m \u001b[49m\u001b[43m*\u001b[49m\u001b[43m*\u001b[49m\u001b[43mkwargs\u001b[49m\u001b[43m)\u001b[49m\n",
      "\u001b[36mFile \u001b[39m\u001b[32m~/miniconda3/envs/flickd/lib/python3.12/site-packages/requests/sessions.py:589\u001b[39m, in \u001b[36mSession.request\u001b[39m\u001b[34m(self, method, url, params, data, headers, cookies, files, auth, timeout, allow_redirects, proxies, hooks, stream, verify, cert, json)\u001b[39m\n\u001b[32m    584\u001b[39m send_kwargs = {\n\u001b[32m    585\u001b[39m     \u001b[33m\"\u001b[39m\u001b[33mtimeout\u001b[39m\u001b[33m\"\u001b[39m: timeout,\n\u001b[32m    586\u001b[39m     \u001b[33m\"\u001b[39m\u001b[33mallow_redirects\u001b[39m\u001b[33m\"\u001b[39m: allow_redirects,\n\u001b[32m    587\u001b[39m }\n\u001b[32m    588\u001b[39m send_kwargs.update(settings)\n\u001b[32m--> \u001b[39m\u001b[32m589\u001b[39m resp = \u001b[38;5;28;43mself\u001b[39;49m\u001b[43m.\u001b[49m\u001b[43msend\u001b[49m\u001b[43m(\u001b[49m\u001b[43mprep\u001b[49m\u001b[43m,\u001b[49m\u001b[43m \u001b[49m\u001b[43m*\u001b[49m\u001b[43m*\u001b[49m\u001b[43msend_kwargs\u001b[49m\u001b[43m)\u001b[49m\n\u001b[32m    591\u001b[39m \u001b[38;5;28;01mreturn\u001b[39;00m resp\n",
      "\u001b[36mFile \u001b[39m\u001b[32m~/miniconda3/envs/flickd/lib/python3.12/site-packages/requests/sessions.py:703\u001b[39m, in \u001b[36mSession.send\u001b[39m\u001b[34m(self, request, **kwargs)\u001b[39m\n\u001b[32m    700\u001b[39m start = preferred_clock()\n\u001b[32m    702\u001b[39m \u001b[38;5;66;03m# Send the request\u001b[39;00m\n\u001b[32m--> \u001b[39m\u001b[32m703\u001b[39m r = \u001b[43madapter\u001b[49m\u001b[43m.\u001b[49m\u001b[43msend\u001b[49m\u001b[43m(\u001b[49m\u001b[43mrequest\u001b[49m\u001b[43m,\u001b[49m\u001b[43m \u001b[49m\u001b[43m*\u001b[49m\u001b[43m*\u001b[49m\u001b[43mkwargs\u001b[49m\u001b[43m)\u001b[49m\n\u001b[32m    705\u001b[39m \u001b[38;5;66;03m# Total elapsed time of the request (approximately)\u001b[39;00m\n\u001b[32m    706\u001b[39m elapsed = preferred_clock() - start\n",
      "\u001b[36mFile \u001b[39m\u001b[32m~/miniconda3/envs/flickd/lib/python3.12/site-packages/requests/adapters.py:667\u001b[39m, in \u001b[36mHTTPAdapter.send\u001b[39m\u001b[34m(self, request, stream, timeout, verify, cert, proxies)\u001b[39m\n\u001b[32m    664\u001b[39m     timeout = TimeoutSauce(connect=timeout, read=timeout)\n\u001b[32m    666\u001b[39m \u001b[38;5;28;01mtry\u001b[39;00m:\n\u001b[32m--> \u001b[39m\u001b[32m667\u001b[39m     resp = \u001b[43mconn\u001b[49m\u001b[43m.\u001b[49m\u001b[43murlopen\u001b[49m\u001b[43m(\u001b[49m\n\u001b[32m    668\u001b[39m \u001b[43m        \u001b[49m\u001b[43mmethod\u001b[49m\u001b[43m=\u001b[49m\u001b[43mrequest\u001b[49m\u001b[43m.\u001b[49m\u001b[43mmethod\u001b[49m\u001b[43m,\u001b[49m\n\u001b[32m    669\u001b[39m \u001b[43m        \u001b[49m\u001b[43murl\u001b[49m\u001b[43m=\u001b[49m\u001b[43murl\u001b[49m\u001b[43m,\u001b[49m\n\u001b[32m    670\u001b[39m \u001b[43m        \u001b[49m\u001b[43mbody\u001b[49m\u001b[43m=\u001b[49m\u001b[43mrequest\u001b[49m\u001b[43m.\u001b[49m\u001b[43mbody\u001b[49m\u001b[43m,\u001b[49m\n\u001b[32m    671\u001b[39m \u001b[43m        \u001b[49m\u001b[43mheaders\u001b[49m\u001b[43m=\u001b[49m\u001b[43mrequest\u001b[49m\u001b[43m.\u001b[49m\u001b[43mheaders\u001b[49m\u001b[43m,\u001b[49m\n\u001b[32m    672\u001b[39m \u001b[43m        \u001b[49m\u001b[43mredirect\u001b[49m\u001b[43m=\u001b[49m\u001b[38;5;28;43;01mFalse\u001b[39;49;00m\u001b[43m,\u001b[49m\n\u001b[32m    673\u001b[39m \u001b[43m        \u001b[49m\u001b[43massert_same_host\u001b[49m\u001b[43m=\u001b[49m\u001b[38;5;28;43;01mFalse\u001b[39;49;00m\u001b[43m,\u001b[49m\n\u001b[32m    674\u001b[39m \u001b[43m        \u001b[49m\u001b[43mpreload_content\u001b[49m\u001b[43m=\u001b[49m\u001b[38;5;28;43;01mFalse\u001b[39;49;00m\u001b[43m,\u001b[49m\n\u001b[32m    675\u001b[39m \u001b[43m        \u001b[49m\u001b[43mdecode_content\u001b[49m\u001b[43m=\u001b[49m\u001b[38;5;28;43;01mFalse\u001b[39;49;00m\u001b[43m,\u001b[49m\n\u001b[32m    676\u001b[39m \u001b[43m        \u001b[49m\u001b[43mretries\u001b[49m\u001b[43m=\u001b[49m\u001b[38;5;28;43mself\u001b[39;49m\u001b[43m.\u001b[49m\u001b[43mmax_retries\u001b[49m\u001b[43m,\u001b[49m\n\u001b[32m    677\u001b[39m \u001b[43m        \u001b[49m\u001b[43mtimeout\u001b[49m\u001b[43m=\u001b[49m\u001b[43mtimeout\u001b[49m\u001b[43m,\u001b[49m\n\u001b[32m    678\u001b[39m \u001b[43m        \u001b[49m\u001b[43mchunked\u001b[49m\u001b[43m=\u001b[49m\u001b[43mchunked\u001b[49m\u001b[43m,\u001b[49m\n\u001b[32m    679\u001b[39m \u001b[43m    \u001b[49m\u001b[43m)\u001b[49m\n\u001b[32m    681\u001b[39m \u001b[38;5;28;01mexcept\u001b[39;00m (ProtocolError, \u001b[38;5;167;01mOSError\u001b[39;00m) \u001b[38;5;28;01mas\u001b[39;00m err:\n\u001b[32m    682\u001b[39m     \u001b[38;5;28;01mraise\u001b[39;00m \u001b[38;5;167;01mConnectionError\u001b[39;00m(err, request=request)\n",
      "\u001b[36mFile \u001b[39m\u001b[32m~/miniconda3/envs/flickd/lib/python3.12/site-packages/urllib3/connectionpool.py:787\u001b[39m, in \u001b[36mHTTPConnectionPool.urlopen\u001b[39m\u001b[34m(self, method, url, body, headers, retries, redirect, assert_same_host, timeout, pool_timeout, release_conn, chunked, body_pos, preload_content, decode_content, **response_kw)\u001b[39m\n\u001b[32m    784\u001b[39m response_conn = conn \u001b[38;5;28;01mif\u001b[39;00m \u001b[38;5;129;01mnot\u001b[39;00m release_conn \u001b[38;5;28;01melse\u001b[39;00m \u001b[38;5;28;01mNone\u001b[39;00m\n\u001b[32m    786\u001b[39m \u001b[38;5;66;03m# Make the request on the HTTPConnection object\u001b[39;00m\n\u001b[32m--> \u001b[39m\u001b[32m787\u001b[39m response = \u001b[38;5;28;43mself\u001b[39;49m\u001b[43m.\u001b[49m\u001b[43m_make_request\u001b[49m\u001b[43m(\u001b[49m\n\u001b[32m    788\u001b[39m \u001b[43m    \u001b[49m\u001b[43mconn\u001b[49m\u001b[43m,\u001b[49m\n\u001b[32m    789\u001b[39m \u001b[43m    \u001b[49m\u001b[43mmethod\u001b[49m\u001b[43m,\u001b[49m\n\u001b[32m    790\u001b[39m \u001b[43m    \u001b[49m\u001b[43murl\u001b[49m\u001b[43m,\u001b[49m\n\u001b[32m    791\u001b[39m \u001b[43m    \u001b[49m\u001b[43mtimeout\u001b[49m\u001b[43m=\u001b[49m\u001b[43mtimeout_obj\u001b[49m\u001b[43m,\u001b[49m\n\u001b[32m    792\u001b[39m \u001b[43m    \u001b[49m\u001b[43mbody\u001b[49m\u001b[43m=\u001b[49m\u001b[43mbody\u001b[49m\u001b[43m,\u001b[49m\n\u001b[32m    793\u001b[39m \u001b[43m    \u001b[49m\u001b[43mheaders\u001b[49m\u001b[43m=\u001b[49m\u001b[43mheaders\u001b[49m\u001b[43m,\u001b[49m\n\u001b[32m    794\u001b[39m \u001b[43m    \u001b[49m\u001b[43mchunked\u001b[49m\u001b[43m=\u001b[49m\u001b[43mchunked\u001b[49m\u001b[43m,\u001b[49m\n\u001b[32m    795\u001b[39m \u001b[43m    \u001b[49m\u001b[43mretries\u001b[49m\u001b[43m=\u001b[49m\u001b[43mretries\u001b[49m\u001b[43m,\u001b[49m\n\u001b[32m    796\u001b[39m \u001b[43m    \u001b[49m\u001b[43mresponse_conn\u001b[49m\u001b[43m=\u001b[49m\u001b[43mresponse_conn\u001b[49m\u001b[43m,\u001b[49m\n\u001b[32m    797\u001b[39m \u001b[43m    \u001b[49m\u001b[43mpreload_content\u001b[49m\u001b[43m=\u001b[49m\u001b[43mpreload_content\u001b[49m\u001b[43m,\u001b[49m\n\u001b[32m    798\u001b[39m \u001b[43m    \u001b[49m\u001b[43mdecode_content\u001b[49m\u001b[43m=\u001b[49m\u001b[43mdecode_content\u001b[49m\u001b[43m,\u001b[49m\n\u001b[32m    799\u001b[39m \u001b[43m    \u001b[49m\u001b[43m*\u001b[49m\u001b[43m*\u001b[49m\u001b[43mresponse_kw\u001b[49m\u001b[43m,\u001b[49m\n\u001b[32m    800\u001b[39m \u001b[43m\u001b[49m\u001b[43m)\u001b[49m\n\u001b[32m    802\u001b[39m \u001b[38;5;66;03m# Everything went great!\u001b[39;00m\n\u001b[32m    803\u001b[39m clean_exit = \u001b[38;5;28;01mTrue\u001b[39;00m\n",
      "\u001b[36mFile \u001b[39m\u001b[32m~/miniconda3/envs/flickd/lib/python3.12/site-packages/urllib3/connectionpool.py:464\u001b[39m, in \u001b[36mHTTPConnectionPool._make_request\u001b[39m\u001b[34m(self, conn, method, url, body, headers, retries, timeout, chunked, response_conn, preload_content, decode_content, enforce_content_length)\u001b[39m\n\u001b[32m    461\u001b[39m \u001b[38;5;28;01mtry\u001b[39;00m:\n\u001b[32m    462\u001b[39m     \u001b[38;5;66;03m# Trigger any extra validation we need to do.\u001b[39;00m\n\u001b[32m    463\u001b[39m     \u001b[38;5;28;01mtry\u001b[39;00m:\n\u001b[32m--> \u001b[39m\u001b[32m464\u001b[39m         \u001b[38;5;28;43mself\u001b[39;49m\u001b[43m.\u001b[49m\u001b[43m_validate_conn\u001b[49m\u001b[43m(\u001b[49m\u001b[43mconn\u001b[49m\u001b[43m)\u001b[49m\n\u001b[32m    465\u001b[39m     \u001b[38;5;28;01mexcept\u001b[39;00m (SocketTimeout, BaseSSLError) \u001b[38;5;28;01mas\u001b[39;00m e:\n\u001b[32m    466\u001b[39m         \u001b[38;5;28mself\u001b[39m._raise_timeout(err=e, url=url, timeout_value=conn.timeout)\n",
      "\u001b[36mFile \u001b[39m\u001b[32m~/miniconda3/envs/flickd/lib/python3.12/site-packages/urllib3/connectionpool.py:1093\u001b[39m, in \u001b[36mHTTPSConnectionPool._validate_conn\u001b[39m\u001b[34m(self, conn)\u001b[39m\n\u001b[32m   1091\u001b[39m \u001b[38;5;66;03m# Force connect early to allow us to validate the connection.\u001b[39;00m\n\u001b[32m   1092\u001b[39m \u001b[38;5;28;01mif\u001b[39;00m conn.is_closed:\n\u001b[32m-> \u001b[39m\u001b[32m1093\u001b[39m     \u001b[43mconn\u001b[49m\u001b[43m.\u001b[49m\u001b[43mconnect\u001b[49m\u001b[43m(\u001b[49m\u001b[43m)\u001b[49m\n\u001b[32m   1095\u001b[39m \u001b[38;5;66;03m# TODO revise this, see https://github.com/urllib3/urllib3/issues/2791\u001b[39;00m\n\u001b[32m   1096\u001b[39m \u001b[38;5;28;01mif\u001b[39;00m \u001b[38;5;129;01mnot\u001b[39;00m conn.is_verified \u001b[38;5;129;01mand\u001b[39;00m \u001b[38;5;129;01mnot\u001b[39;00m conn.proxy_is_verified:\n",
      "\u001b[36mFile \u001b[39m\u001b[32m~/miniconda3/envs/flickd/lib/python3.12/site-packages/urllib3/connection.py:704\u001b[39m, in \u001b[36mHTTPSConnection.connect\u001b[39m\u001b[34m(self)\u001b[39m\n\u001b[32m    702\u001b[39m \u001b[38;5;28;01mtry\u001b[39;00m:\n\u001b[32m    703\u001b[39m     sock: socket.socket | ssl.SSLSocket\n\u001b[32m--> \u001b[39m\u001b[32m704\u001b[39m     \u001b[38;5;28mself\u001b[39m.sock = sock = \u001b[38;5;28;43mself\u001b[39;49m\u001b[43m.\u001b[49m\u001b[43m_new_conn\u001b[49m\u001b[43m(\u001b[49m\u001b[43m)\u001b[49m\n\u001b[32m    705\u001b[39m     server_hostname: \u001b[38;5;28mstr\u001b[39m = \u001b[38;5;28mself\u001b[39m.host\n\u001b[32m    706\u001b[39m     tls_in_tls = \u001b[38;5;28;01mFalse\u001b[39;00m\n",
      "\u001b[36mFile \u001b[39m\u001b[32m~/miniconda3/envs/flickd/lib/python3.12/site-packages/urllib3/connection.py:198\u001b[39m, in \u001b[36mHTTPConnection._new_conn\u001b[39m\u001b[34m(self)\u001b[39m\n\u001b[32m    193\u001b[39m \u001b[38;5;250m\u001b[39m\u001b[33;03m\"\"\"Establish a socket connection and set nodelay settings on it.\u001b[39;00m\n\u001b[32m    194\u001b[39m \n\u001b[32m    195\u001b[39m \u001b[33;03m:return: New socket connection.\u001b[39;00m\n\u001b[32m    196\u001b[39m \u001b[33;03m\"\"\"\u001b[39;00m\n\u001b[32m    197\u001b[39m \u001b[38;5;28;01mtry\u001b[39;00m:\n\u001b[32m--> \u001b[39m\u001b[32m198\u001b[39m     sock = \u001b[43mconnection\u001b[49m\u001b[43m.\u001b[49m\u001b[43mcreate_connection\u001b[49m\u001b[43m(\u001b[49m\n\u001b[32m    199\u001b[39m \u001b[43m        \u001b[49m\u001b[43m(\u001b[49m\u001b[38;5;28;43mself\u001b[39;49m\u001b[43m.\u001b[49m\u001b[43m_dns_host\u001b[49m\u001b[43m,\u001b[49m\u001b[43m \u001b[49m\u001b[38;5;28;43mself\u001b[39;49m\u001b[43m.\u001b[49m\u001b[43mport\u001b[49m\u001b[43m)\u001b[49m\u001b[43m,\u001b[49m\n\u001b[32m    200\u001b[39m \u001b[43m        \u001b[49m\u001b[38;5;28;43mself\u001b[39;49m\u001b[43m.\u001b[49m\u001b[43mtimeout\u001b[49m\u001b[43m,\u001b[49m\n\u001b[32m    201\u001b[39m \u001b[43m        \u001b[49m\u001b[43msource_address\u001b[49m\u001b[43m=\u001b[49m\u001b[38;5;28;43mself\u001b[39;49m\u001b[43m.\u001b[49m\u001b[43msource_address\u001b[49m\u001b[43m,\u001b[49m\n\u001b[32m    202\u001b[39m \u001b[43m        \u001b[49m\u001b[43msocket_options\u001b[49m\u001b[43m=\u001b[49m\u001b[38;5;28;43mself\u001b[39;49m\u001b[43m.\u001b[49m\u001b[43msocket_options\u001b[49m\u001b[43m,\u001b[49m\n\u001b[32m    203\u001b[39m \u001b[43m    \u001b[49m\u001b[43m)\u001b[49m\n\u001b[32m    204\u001b[39m \u001b[38;5;28;01mexcept\u001b[39;00m socket.gaierror \u001b[38;5;28;01mas\u001b[39;00m e:\n\u001b[32m    205\u001b[39m     \u001b[38;5;28;01mraise\u001b[39;00m NameResolutionError(\u001b[38;5;28mself\u001b[39m.host, \u001b[38;5;28mself\u001b[39m, e) \u001b[38;5;28;01mfrom\u001b[39;00m\u001b[38;5;250m \u001b[39m\u001b[34;01me\u001b[39;00m\n",
      "\u001b[36mFile \u001b[39m\u001b[32m~/miniconda3/envs/flickd/lib/python3.12/site-packages/urllib3/util/connection.py:73\u001b[39m, in \u001b[36mcreate_connection\u001b[39m\u001b[34m(address, timeout, source_address, socket_options)\u001b[39m\n\u001b[32m     71\u001b[39m \u001b[38;5;28;01mif\u001b[39;00m source_address:\n\u001b[32m     72\u001b[39m     sock.bind(source_address)\n\u001b[32m---> \u001b[39m\u001b[32m73\u001b[39m \u001b[43msock\u001b[49m\u001b[43m.\u001b[49m\u001b[43mconnect\u001b[49m\u001b[43m(\u001b[49m\u001b[43msa\u001b[49m\u001b[43m)\u001b[49m\n\u001b[32m     74\u001b[39m \u001b[38;5;66;03m# Break explicitly a reference cycle\u001b[39;00m\n\u001b[32m     75\u001b[39m err = \u001b[38;5;28;01mNone\u001b[39;00m\n",
      "\u001b[31mKeyboardInterrupt\u001b[39m: "
     ]
    }
   ],
   "source": [
    "import pandas as pd\n",
    "import requests\n",
    "from PIL import Image\n",
    "from io import BytesIO\n",
    "import imagehash\n",
    "from collections import defaultdict\n",
    "\n",
    "# Load your filtered catalog\n",
    "df = pd.read_csv(\"filtered_catalog.csv\")\n",
    "\n",
    "# Group by product_id\n",
    "deduped_rows = []\n",
    "hash_map_per_product = defaultdict(set)\n",
    "\n",
    "for _, row in df.iterrows():\n",
    "    product_id = row['id']\n",
    "    image_url = row['image_url']\n",
    "\n",
    "    try:\n",
    "        # Download and hash image\n",
    "        response = requests.get(image_url, timeout=10)\n",
    "        img = Image.open(BytesIO(response.content)).convert(\"RGB\")\n",
    "        img_hash = imagehash.phash(img)  # perceptual hash (can use dhash/ahash too)\n",
    "\n",
    "        # If hash is not already used for this product_id, keep it\n",
    "        if img_hash not in hash_map_per_product[product_id]:\n",
    "            hash_map_per_product[product_id].add(img_hash)\n",
    "            deduped_rows.append(row)\n",
    "    except Exception as e:\n",
    "        print(f\"⚠️ Failed to process {image_url}: {e}\")\n",
    "\n",
    "# Create updated DataFrame\n",
    "deduped_df = pd.DataFrame(deduped_rows)\n",
    "\n",
    "# Save updated catalog\n",
    "deduped_df.to_csv(\"deduplicated_catalog.csv\", index=False)\n",
    "print(f\"✅ Saved deduplicated catalog with {len(deduped_df)} rows.\")\n"
   ]
  }
 ],
 "metadata": {
  "kernelspec": {
   "display_name": "flickd",
   "language": "python",
   "name": "python3"
  },
  "language_info": {
   "codemirror_mode": {
    "name": "ipython",
    "version": 3
   },
   "file_extension": ".py",
   "mimetype": "text/x-python",
   "name": "python",
   "nbconvert_exporter": "python",
   "pygments_lexer": "ipython3",
   "version": "3.12.9"
  }
 },
 "nbformat": 4,
 "nbformat_minor": 5
}
